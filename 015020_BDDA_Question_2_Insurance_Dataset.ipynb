{
 "cells": [
  {
   "cell_type": "markdown",
   "metadata": {},
   "source": [
    "# BDDA - Question 2\n",
    "## Insurance Dataset"
   ]
  },
  {
   "cell_type": "markdown",
   "metadata": {},
   "source": [
    "### Hadoop Commands\n",
    "### 1. Start Hadoop\n",
    "#### ./allstart.sh\n",
    "### 2. Copy File From Local to Hadoop\n",
    "#### hadoop fs -copyFromLocal insurance.csv\n",
    "### 3. Open Jupyter Notebook\n",
    "#### pysparknb"
   ]
  },
  {
   "cell_type": "markdown",
   "metadata": {},
   "source": [
    "### Import Libraries"
   ]
  },
  {
   "cell_type": "code",
   "execution_count": 1,
   "metadata": {},
   "outputs": [],
   "source": [
    "from pyspark.sql import SparkSession"
   ]
  },
  {
   "cell_type": "code",
   "execution_count": 2,
   "metadata": {},
   "outputs": [],
   "source": [
    "spark = SparkSession.builder.appName('Insurance').getOrCreate()"
   ]
  },
  {
   "cell_type": "code",
   "execution_count": 4,
   "metadata": {},
   "outputs": [],
   "source": [
    "import numpy as np\n",
    "\n",
    "from pyspark.ml.feature import StringIndexer, OneHotEncoder\n",
    "\n",
    "from pyspark.ml.feature import VectorAssembler\n",
    "from pyspark.ml.linalg import Vectors\n",
    "from pyspark.ml.feature import StringIndexer\n",
    "from pyspark.ml.feature import MinMaxScaler, StandardScaler\n",
    "from pyspark.ml import Pipeline"
   ]
  },
  {
   "cell_type": "code",
   "execution_count": 5,
   "metadata": {},
   "outputs": [],
   "source": [
    "from pyspark.ml.classification import LogisticRegression\n",
    "\n",
    "from pyspark.ml.tuning import ParamGridBuilder, CrossValidator\n",
    "\n",
    "import time"
   ]
  },
  {
   "cell_type": "markdown",
   "metadata": {},
   "source": [
    "### Import Data"
   ]
  },
  {
   "cell_type": "code",
   "execution_count": 6,
   "metadata": {},
   "outputs": [],
   "source": [
    "df = spark.read.csv('insurance.csv' , header=True , inferSchema=True)"
   ]
  },
  {
   "cell_type": "markdown",
   "metadata": {},
   "source": [
    "### Data Exploration"
   ]
  },
  {
   "cell_type": "code",
   "execution_count": 7,
   "metadata": {},
   "outputs": [
    {
     "name": "stdout",
     "output_type": "stream",
     "text": [
      "+---+------+------+--------+------+---------+-----------+\n",
      "|age|   sex|   bmi|children|smoker|   region|    charges|\n",
      "+---+------+------+--------+------+---------+-----------+\n",
      "| 19|female|  27.9|       0|   yes|southwest|  16884.924|\n",
      "| 18|  male| 33.77|       1|    no|southeast|  1725.5523|\n",
      "| 28|  male|  33.0|       3|    no|southeast|   4449.462|\n",
      "| 33|  male|22.705|       0|    no|northwest|21984.47061|\n",
      "| 32|  male| 28.88|       0|    no|northwest|  3866.8552|\n",
      "| 31|female| 25.74|       0|    no|southeast|  3756.6216|\n",
      "| 46|female| 33.44|       1|    no|southeast|  8240.5896|\n",
      "| 37|female| 27.74|       3|    no|northwest|  7281.5056|\n",
      "| 37|  male| 29.83|       2|    no|northeast|  6406.4107|\n",
      "| 60|female| 25.84|       0|    no|northwest|28923.13692|\n",
      "| 25|  male| 26.22|       0|    no|northeast|  2721.3208|\n",
      "| 62|female| 26.29|       0|   yes|southeast| 27808.7251|\n",
      "| 23|  male|  34.4|       0|    no|southwest|   1826.843|\n",
      "| 56|female| 39.82|       0|    no|southeast| 11090.7178|\n",
      "| 27|  male| 42.13|       0|   yes|southeast| 39611.7577|\n",
      "| 19|  male|  24.6|       1|    no|southwest|   1837.237|\n",
      "| 52|female| 30.78|       1|    no|northeast| 10797.3362|\n",
      "| 23|  male|23.845|       0|    no|northeast| 2395.17155|\n",
      "| 56|  male|  40.3|       0|    no|southwest|  10602.385|\n",
      "| 30|  male|  35.3|       0|   yes|southwest|  36837.467|\n",
      "+---+------+------+--------+------+---------+-----------+\n",
      "only showing top 20 rows\n",
      "\n"
     ]
    }
   ],
   "source": [
    "df.show()"
   ]
  },
  {
   "cell_type": "code",
   "execution_count": 8,
   "metadata": {},
   "outputs": [
    {
     "data": {
      "text/plain": [
       "['age', 'sex', 'bmi', 'children', 'smoker', 'region', 'charges']"
      ]
     },
     "execution_count": 8,
     "metadata": {},
     "output_type": "execute_result"
    }
   ],
   "source": [
    "df.columns"
   ]
  },
  {
   "cell_type": "code",
   "execution_count": 9,
   "metadata": {},
   "outputs": [
    {
     "name": "stdout",
     "output_type": "stream",
     "text": [
      "root\n",
      " |-- age: integer (nullable = true)\n",
      " |-- sex: string (nullable = true)\n",
      " |-- bmi: double (nullable = true)\n",
      " |-- children: integer (nullable = true)\n",
      " |-- smoker: string (nullable = true)\n",
      " |-- region: string (nullable = true)\n",
      " |-- charges: double (nullable = true)\n",
      "\n"
     ]
    }
   ],
   "source": [
    "df.printSchema()"
   ]
  },
  {
   "cell_type": "code",
   "execution_count": 10,
   "metadata": {},
   "outputs": [
    {
     "data": {
      "text/plain": [
       "Row(age=19, sex='female', bmi=27.9, children=0, smoker='yes', region='southwest', charges=16884.924)"
      ]
     },
     "execution_count": 10,
     "metadata": {},
     "output_type": "execute_result"
    }
   ],
   "source": [
    "df.head()"
   ]
  },
  {
   "cell_type": "code",
   "execution_count": 11,
   "metadata": {},
   "outputs": [
    {
     "data": {
      "text/plain": [
       "[Row(age=21, sex='female', bmi=25.8, children=0, smoker='no', region='southwest', charges=2007.945),\n",
       " Row(age=61, sex='female', bmi=29.07, children=0, smoker='yes', region='northwest', charges=29141.3603)]"
      ]
     },
     "execution_count": 11,
     "metadata": {},
     "output_type": "execute_result"
    }
   ],
   "source": [
    "df.tail(2)"
   ]
  },
  {
   "cell_type": "code",
   "execution_count": 12,
   "metadata": {},
   "outputs": [
    {
     "name": "stdout",
     "output_type": "stream",
     "text": [
      "+-------+------------------+------+------------------+-----------------+------+---------+------------------+\n",
      "|summary|               age|   sex|               bmi|         children|smoker|   region|           charges|\n",
      "+-------+------------------+------+------------------+-----------------+------+---------+------------------+\n",
      "|  count|              1338|  1338|              1338|             1338|  1338|     1338|              1338|\n",
      "|   mean| 39.20702541106129|  null|30.663396860986538|  1.0949177877429|  null|     null|13270.422265141257|\n",
      "| stddev|14.049960379216147|  null| 6.098186911679012|1.205492739781914|  null|     null|12110.011236693992|\n",
      "|    min|                18|female|             15.96|                0|    no|northeast|         1121.8739|\n",
      "|    max|                64|  male|             53.13|                5|   yes|southwest|       63770.42801|\n",
      "+-------+------------------+------+------------------+-----------------+------+---------+------------------+\n",
      "\n"
     ]
    }
   ],
   "source": [
    "df.describe().show()"
   ]
  },
  {
   "cell_type": "markdown",
   "metadata": {},
   "source": [
    "### Feature Engineering"
   ]
  },
  {
   "cell_type": "code",
   "execution_count": 17,
   "metadata": {},
   "outputs": [],
   "source": [
    "# Being that sex, smoker, region and region are strings and regression algorithms requires numbers\n",
    "# We replace the strings with numerical values using StringIndexers\n",
    "# This is esentially encoding\n",
    "\n",
    "index = [StringIndexer(inputCol=\"sex\" , outputCol=\"sex_indexed\"),\n",
    "        StringIndexer(inputCol=\"smoker\" , outputCol=\"smoker_indexed\"),\n",
    "        StringIndexer(inputCol=\"region\" , outputCol=\"region_indexed\") \n",
    "        ]"
   ]
  },
  {
   "cell_type": "code",
   "execution_count": 23,
   "metadata": {},
   "outputs": [],
   "source": [
    "# Initialise the pipeline which will run the StringIndexers and updated columns will be stored to df_new\n",
    "pipe = Pipeline(stages=index)\n",
    "df_new = pipe.fit(df).transform(df)"
   ]
  },
  {
   "cell_type": "code",
   "execution_count": 24,
   "metadata": {},
   "outputs": [
    {
     "name": "stdout",
     "output_type": "stream",
     "text": [
      "+---+------+------+--------+------+---------+-----------+-----------+--------------+--------------+\n",
      "|age|   sex|   bmi|children|smoker|   region|    charges|sex_indexed|smoker_indexed|region_indexed|\n",
      "+---+------+------+--------+------+---------+-----------+-----------+--------------+--------------+\n",
      "| 19|female|  27.9|       0|   yes|southwest|  16884.924|        1.0|           1.0|           2.0|\n",
      "| 18|  male| 33.77|       1|    no|southeast|  1725.5523|        0.0|           0.0|           0.0|\n",
      "| 28|  male|  33.0|       3|    no|southeast|   4449.462|        0.0|           0.0|           0.0|\n",
      "| 33|  male|22.705|       0|    no|northwest|21984.47061|        0.0|           0.0|           1.0|\n",
      "| 32|  male| 28.88|       0|    no|northwest|  3866.8552|        0.0|           0.0|           1.0|\n",
      "| 31|female| 25.74|       0|    no|southeast|  3756.6216|        1.0|           0.0|           0.0|\n",
      "| 46|female| 33.44|       1|    no|southeast|  8240.5896|        1.0|           0.0|           0.0|\n",
      "| 37|female| 27.74|       3|    no|northwest|  7281.5056|        1.0|           0.0|           1.0|\n",
      "| 37|  male| 29.83|       2|    no|northeast|  6406.4107|        0.0|           0.0|           3.0|\n",
      "| 60|female| 25.84|       0|    no|northwest|28923.13692|        1.0|           0.0|           1.0|\n",
      "| 25|  male| 26.22|       0|    no|northeast|  2721.3208|        0.0|           0.0|           3.0|\n",
      "| 62|female| 26.29|       0|   yes|southeast| 27808.7251|        1.0|           1.0|           0.0|\n",
      "| 23|  male|  34.4|       0|    no|southwest|   1826.843|        0.0|           0.0|           2.0|\n",
      "| 56|female| 39.82|       0|    no|southeast| 11090.7178|        1.0|           0.0|           0.0|\n",
      "| 27|  male| 42.13|       0|   yes|southeast| 39611.7577|        0.0|           1.0|           0.0|\n",
      "| 19|  male|  24.6|       1|    no|southwest|   1837.237|        0.0|           0.0|           2.0|\n",
      "| 52|female| 30.78|       1|    no|northeast| 10797.3362|        1.0|           0.0|           3.0|\n",
      "| 23|  male|23.845|       0|    no|northeast| 2395.17155|        0.0|           0.0|           3.0|\n",
      "| 56|  male|  40.3|       0|    no|southwest|  10602.385|        0.0|           0.0|           2.0|\n",
      "| 30|  male|  35.3|       0|   yes|southwest|  36837.467|        0.0|           1.0|           2.0|\n",
      "+---+------+------+--------+------+---------+-----------+-----------+--------------+--------------+\n",
      "only showing top 20 rows\n",
      "\n"
     ]
    }
   ],
   "source": [
    "df_new.show()"
   ]
  },
  {
   "cell_type": "code",
   "execution_count": 25,
   "metadata": {},
   "outputs": [
    {
     "data": {
      "text/plain": [
       "['age',\n",
       " 'sex',\n",
       " 'bmi',\n",
       " 'children',\n",
       " 'smoker',\n",
       " 'region',\n",
       " 'charges',\n",
       " 'sex_indexed',\n",
       " 'smoker_indexed',\n",
       " 'region_indexed']"
      ]
     },
     "execution_count": 25,
     "metadata": {},
     "output_type": "execute_result"
    }
   ],
   "source": [
    "df_new.columns"
   ]
  },
  {
   "cell_type": "code",
   "execution_count": 26,
   "metadata": {},
   "outputs": [
    {
     "data": {
      "text/plain": [
       "Row(age=19, sex='female', bmi=27.9, children=0, smoker='yes', region='southwest', charges=16884.924, sex_indexed=1.0, smoker_indexed=1.0, region_indexed=2.0)"
      ]
     },
     "execution_count": 26,
     "metadata": {},
     "output_type": "execute_result"
    }
   ],
   "source": [
    "df_new.head()"
   ]
  },
  {
   "cell_type": "code",
   "execution_count": 27,
   "metadata": {},
   "outputs": [
    {
     "data": {
      "text/plain": [
       "[Row(age=21, sex='female', bmi=25.8, children=0, smoker='no', region='southwest', charges=2007.945, sex_indexed=1.0, smoker_indexed=0.0, region_indexed=2.0),\n",
       " Row(age=61, sex='female', bmi=29.07, children=0, smoker='yes', region='northwest', charges=29141.3603, sex_indexed=1.0, smoker_indexed=1.0, region_indexed=1.0)]"
      ]
     },
     "execution_count": 27,
     "metadata": {},
     "output_type": "execute_result"
    }
   ],
   "source": [
    "df_new.tail(2)"
   ]
  },
  {
   "cell_type": "code",
   "execution_count": 30,
   "metadata": {},
   "outputs": [
    {
     "name": "stdout",
     "output_type": "stream",
     "text": [
      "root\n",
      " |-- age: integer (nullable = true)\n",
      " |-- sex: string (nullable = true)\n",
      " |-- bmi: double (nullable = true)\n",
      " |-- children: integer (nullable = true)\n",
      " |-- smoker: string (nullable = true)\n",
      " |-- region: string (nullable = true)\n",
      " |-- charges: double (nullable = true)\n",
      " |-- sex_indexed: double (nullable = false)\n",
      " |-- smoker_indexed: double (nullable = false)\n",
      " |-- region_indexed: double (nullable = false)\n",
      "\n"
     ]
    }
   ],
   "source": [
    "df_new.printSchema()"
   ]
  },
  {
   "cell_type": "code",
   "execution_count": 31,
   "metadata": {},
   "outputs": [],
   "source": [
    "### Combine features together using vector assembler\n",
    "### Here we combine Age, BMI, Sex & Smoker and save the resultant vector into the compiled_features column\n",
    "\n",
    "assemble = VectorAssembler(inputCols=[\"age\" , \"bmi\" , \"sex_indexed\" , \"smoker_indexed\"] , outputCol=\"compiled_features\")"
   ]
  },
  {
   "cell_type": "code",
   "execution_count": 33,
   "metadata": {},
   "outputs": [],
   "source": [
    "### Apply VectorAssembler and transform the data\n",
    "\n",
    "comp = assemble.transform(df_new)"
   ]
  },
  {
   "cell_type": "code",
   "execution_count": 34,
   "metadata": {},
   "outputs": [],
   "source": [
    "### Create a new dataframe with the compiled features and the charges\n",
    "\n",
    "updated_df = comp.select(\"compiled_features\" , \"charges\")"
   ]
  },
  {
   "cell_type": "markdown",
   "metadata": {},
   "source": [
    "### Split the updated dataset into Train & Test"
   ]
  },
  {
   "cell_type": "code",
   "execution_count": 35,
   "metadata": {},
   "outputs": [],
   "source": [
    "train_df, test_df = updated_df.randomSplit([0.7,0.3])"
   ]
  },
  {
   "cell_type": "markdown",
   "metadata": {},
   "source": [
    "### Model - Linear Regression"
   ]
  },
  {
   "cell_type": "code",
   "execution_count": 37,
   "metadata": {},
   "outputs": [],
   "source": [
    "from pyspark.ml.regression import LinearRegression\n",
    "\n",
    "lr = LinearRegression(featuresCol=\"compiled_features\" , labelCol=\"charges\")"
   ]
  },
  {
   "cell_type": "code",
   "execution_count": 38,
   "metadata": {},
   "outputs": [],
   "source": [
    "regressor = lr.fit(train_df)"
   ]
  },
  {
   "cell_type": "code",
   "execution_count": 39,
   "metadata": {},
   "outputs": [],
   "source": [
    "predict = regressor.evaluate(test_df)"
   ]
  },
  {
   "cell_type": "code",
   "execution_count": 40,
   "metadata": {},
   "outputs": [],
   "source": [
    "###  Evaluation of the Model\n",
    "\n",
    "from pyspark.ml.evaluation import RegressionEvaluator"
   ]
  },
  {
   "cell_type": "code",
   "execution_count": 41,
   "metadata": {},
   "outputs": [],
   "source": [
    "evaluated_result = RegressionEvaluator(labelCol=\"charges\" , predictionCol=\"predict\")"
   ]
  },
  {
   "cell_type": "code",
   "execution_count": 45,
   "metadata": {},
   "outputs": [
    {
     "name": "stdout",
     "output_type": "stream",
     "text": [
      "+--------------------+-----------+------------------+\n",
      "|   compiled_features|    charges|        prediction|\n",
      "+--------------------+-----------+------------------+\n",
      "|[18.0,27.28,1.0,1.0]| 18223.4512|26265.840463866676|\n",
      "| [18.0,28.5,0.0,0.0]|   1712.227|1901.3848606212432|\n",
      "| [18.0,30.4,0.0,0.0]|   3481.868|2526.9150313715127|\n",
      "|[18.0,33.155,1.0,...| 2207.69745|3737.3047941785844|\n",
      "|[18.0,33.77,0.0,0.0]|  1725.5523|3636.4080184391005|\n",
      "|[18.0,36.85,1.0,1.0]| 36149.4835|29416.537166014095|\n",
      "|[18.0,37.29,1.0,0.0]|  2219.4451|5098.6559815745695|\n",
      "|[18.0,38.28,1.0,0.0]|14133.03775| 5424.590123176027|\n",
      "|[18.0,39.16,1.0,0.0]|  1633.0444| 5714.309360155099|\n",
      "|[18.0,41.14,0.0,0.0]|  1146.7966|6062.8066281388365|\n",
      "+--------------------+-----------+------------------+\n",
      "only showing top 10 rows\n",
      "\n"
     ]
    }
   ],
   "source": [
    "predict.predictions.show(10)"
   ]
  },
  {
   "cell_type": "code",
   "execution_count": 49,
   "metadata": {},
   "outputs": [
    {
     "name": "stdout",
     "output_type": "stream",
     "text": [
      "Coefficients: [267.28964290098287,329.2264056580375,303.37101521917685,24462.74080292906]\n",
      "Intercepts: -12292.781272850518\n"
     ]
    }
   ],
   "source": [
    "print(\"Coefficients: %s\" % str(regressor.coefficients))\n",
    "print(\"Intercepts: %s\" % str(regressor.intercept))"
   ]
  },
  {
   "cell_type": "code",
   "execution_count": 51,
   "metadata": {},
   "outputs": [
    {
     "name": "stdout",
     "output_type": "stream",
     "text": [
      "numIterations: 1\n",
      "objectiveHistory: [0.0]\n",
      "+-------------------+\n",
      "|          residuals|\n",
      "+-------------------+\n",
      "| 3921.9106663305474|\n",
      "| -9844.042556123706|\n",
      "| 1941.0898117830516|\n",
      "| 2115.5320711547615|\n",
      "|-10333.068190311815|\n",
      "|-10132.128664068507|\n",
      "|  12195.06516540077|\n",
      "| 1617.2207345545444|\n",
      "| 1586.0762760170303|\n",
      "|  962.0967253097765|\n",
      "| 1515.0347206873907|\n",
      "| 1368.0650662544358|\n",
      "| 1448.2296731115266|\n",
      "| 1117.6716315100707|\n",
      "| -9751.267614737333|\n",
      "|   807.464812579191|\n",
      "|  589.4536028165965|\n",
      "| 1166.4226005054052|\n",
      "|  712.7936705223924|\n",
      "| -6.258437825692681|\n",
      "+-------------------+\n",
      "only showing top 20 rows\n",
      "\n",
      "RSME: 6190.550997\n",
      "r2: 0.754463\n"
     ]
    }
   ],
   "source": [
    "trainingSummary = regressor.summary\n",
    "print(\"numIterations: %d\" % trainingSummary.totalIterations)\n",
    "print(\"objectiveHistory: %s\" % str(trainingSummary.objectiveHistory))\n",
    "trainingSummary.residuals.show()\n",
    "print(\"RSME: %f\" % trainingSummary.rootMeanSquaredError)\n",
    "print(\"r2: %f\" % trainingSummary.r2)"
   ]
  },
  {
   "cell_type": "markdown",
   "metadata": {},
   "source": [
    "### RSME = 6190.5509\n",
    "### R2 = 0.754"
   ]
  }
 ],
 "metadata": {
  "kernelspec": {
   "display_name": "Python 3",
   "language": "python",
   "name": "python3"
  },
  "language_info": {
   "codemirror_mode": {
    "name": "ipython",
    "version": 3
   },
   "file_extension": ".py",
   "mimetype": "text/x-python",
   "name": "python",
   "nbconvert_exporter": "python",
   "pygments_lexer": "ipython3",
   "version": "3.7.3"
  }
 },
 "nbformat": 4,
 "nbformat_minor": 2
}
